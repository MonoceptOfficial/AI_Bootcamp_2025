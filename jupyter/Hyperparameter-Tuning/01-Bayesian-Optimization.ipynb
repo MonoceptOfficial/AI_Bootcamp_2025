{
 "cells": [
  {
   "cell_type": "code",
   "execution_count": 11,
   "id": "b8287979-7707-4449-ab66-c81204f7ffdf",
   "metadata": {},
   "outputs": [],
   "source": [
    "import optuna\n",
    "from sklearn.ensemble import RandomForestClassifier\n",
    "from sklearn.model_selection import cross_val_score, train_test_split\n",
    "from sklearn.datasets import make_classification"
   ]
  },
  {
   "cell_type": "code",
   "execution_count": 12,
   "id": "2218ca56-53c7-42d4-9462-78c13f52e915",
   "metadata": {},
   "outputs": [],
   "source": [
    "X, y = make_classification(n_samples=1000, n_features=20, random_state=42)\n",
    "X_train, X_test, y_train, y_test = train_test_split(X, y, test_size=0.2, random_state=42)"
   ]
  },
  {
   "cell_type": "code",
   "execution_count": 13,
   "id": "8aefd05d-93a6-4a59-9b03-a215454b5d78",
   "metadata": {},
   "outputs": [],
   "source": [
    "def objective(trial, X, y):\n",
    "    # Suggest values for hyperparameters\n",
    "    n_estimators = trial.suggest_int('n_estimators', 10, 200)\n",
    "    max_depth = trial.suggest_int('max_depth', 5, 50)\n",
    "    min_samples_split = trial.suggest_int('min_samples_split', 2, 10)\n",
    "\n",
    "    # Initialize model with suggested hyperparameters\n",
    "    model = RandomForestClassifier(\n",
    "        n_estimators=n_estimators,\n",
    "        max_depth=max_depth,\n",
    "        min_samples_split=min_samples_split,\n",
    "        random_state=42\n",
    "    )\n",
    "\n",
    "    # Evaluate model using the passed-in X and y data\n",
    "    score = cross_val_score(model, X, y, cv=5, scoring='accuracy').mean()\n",
    "    return score"
   ]
  },
  {
   "cell_type": "code",
   "execution_count": 14,
   "id": "8a2a8f40-4877-40e1-9f41-3ee3dc3d5e0e",
   "metadata": {},
   "outputs": [
    {
     "name": "stderr",
     "output_type": "stream",
     "text": [
      "[I 2025-10-16 11:15:31,325] A new study created in memory with name: no-name-8dbacba3-dd3f-4ff5-adff-0116b6171ebe\n",
      "[I 2025-10-16 11:15:31,649] Trial 0 finished with value: 0.88125 and parameters: {'n_estimators': 20, 'max_depth': 36, 'min_samples_split': 6}. Best is trial 0 with value: 0.88125.\n",
      "[I 2025-10-16 11:15:33,681] Trial 1 finished with value: 0.89 and parameters: {'n_estimators': 112, 'max_depth': 18, 'min_samples_split': 10}. Best is trial 1 with value: 0.89.\n",
      "[I 2025-10-16 11:15:35,814] Trial 2 finished with value: 0.89125 and parameters: {'n_estimators': 116, 'max_depth': 12, 'min_samples_split': 6}. Best is trial 2 with value: 0.89125.\n",
      "[I 2025-10-16 11:15:38,935] Trial 3 finished with value: 0.8899999999999999 and parameters: {'n_estimators': 176, 'max_depth': 48, 'min_samples_split': 5}. Best is trial 2 with value: 0.89125.\n",
      "[I 2025-10-16 11:15:41,411] Trial 4 finished with value: 0.89 and parameters: {'n_estimators': 138, 'max_depth': 49, 'min_samples_split': 8}. Best is trial 2 with value: 0.89125.\n",
      "[I 2025-10-16 11:15:42,003] Trial 5 finished with value: 0.8887499999999999 and parameters: {'n_estimators': 39, 'max_depth': 16, 'min_samples_split': 3}. Best is trial 2 with value: 0.89125.\n",
      "[I 2025-10-16 11:15:42,542] Trial 6 finished with value: 0.89 and parameters: {'n_estimators': 38, 'max_depth': 20, 'min_samples_split': 5}. Best is trial 2 with value: 0.89125.\n",
      "[I 2025-10-16 11:15:44,393] Trial 7 finished with value: 0.89 and parameters: {'n_estimators': 123, 'max_depth': 27, 'min_samples_split': 7}. Best is trial 2 with value: 0.89125.\n",
      "[I 2025-10-16 11:15:48,679] Trial 8 finished with value: 0.8875 and parameters: {'n_estimators': 188, 'max_depth': 33, 'min_samples_split': 7}. Best is trial 2 with value: 0.89125.\n",
      "[I 2025-10-16 11:15:51,514] Trial 9 finished with value: 0.885 and parameters: {'n_estimators': 141, 'max_depth': 11, 'min_samples_split': 9}. Best is trial 2 with value: 0.89125.\n",
      "[I 2025-10-16 11:15:52,874] Trial 10 finished with value: 0.8799999999999999 and parameters: {'n_estimators': 76, 'max_depth': 6, 'min_samples_split': 4}. Best is trial 2 with value: 0.89125.\n",
      "[I 2025-10-16 11:15:54,376] Trial 11 finished with value: 0.8875 and parameters: {'n_estimators': 93, 'max_depth': 20, 'min_samples_split': 10}. Best is trial 2 with value: 0.89125.\n",
      "[I 2025-10-16 11:15:55,436] Trial 12 finished with value: 0.8825 and parameters: {'n_estimators': 82, 'max_depth': 5, 'min_samples_split': 2}. Best is trial 2 with value: 0.89125.\n",
      "[I 2025-10-16 11:15:57,447] Trial 13 finished with value: 0.8887499999999999 and parameters: {'n_estimators': 112, 'max_depth': 13, 'min_samples_split': 10}. Best is trial 2 with value: 0.89125.\n",
      "[I 2025-10-16 11:15:59,540] Trial 14 finished with value: 0.8899999999999999 and parameters: {'n_estimators': 144, 'max_depth': 24, 'min_samples_split': 8}. Best is trial 2 with value: 0.89125.\n",
      "[I 2025-10-16 11:16:00,632] Trial 15 finished with value: 0.8875 and parameters: {'n_estimators': 65, 'max_depth': 33, 'min_samples_split': 6}. Best is trial 2 with value: 0.89125.\n",
      "[I 2025-10-16 11:16:03,278] Trial 16 finished with value: 0.89 and parameters: {'n_estimators': 161, 'max_depth': 11, 'min_samples_split': 8}. Best is trial 2 with value: 0.89125.\n",
      "[I 2025-10-16 11:16:05,226] Trial 17 finished with value: 0.89125 and parameters: {'n_estimators': 105, 'max_depth': 18, 'min_samples_split': 4}. Best is trial 2 with value: 0.89125.\n",
      "[I 2025-10-16 11:16:06,318] Trial 18 finished with value: 0.8887499999999999 and parameters: {'n_estimators': 59, 'max_depth': 24, 'min_samples_split': 4}. Best is trial 2 with value: 0.89125.\n",
      "[I 2025-10-16 11:16:07,794] Trial 19 finished with value: 0.89125 and parameters: {'n_estimators': 97, 'max_depth': 41, 'min_samples_split': 2}. Best is trial 2 with value: 0.89125.\n"
     ]
    }
   ],
   "source": [
    "study = optuna.create_study(direction='maximize')\n",
    "\n",
    "study.optimize(lambda trial: objective(trial, X_train, y_train), n_trials=20)"
   ]
  },
  {
   "cell_type": "code",
   "execution_count": 15,
   "id": "d86e1ff3-d1ce-447d-8e76-4c6d972df600",
   "metadata": {},
   "outputs": [
    {
     "name": "stdout",
     "output_type": "stream",
     "text": [
      "Best Parameters: {'n_estimators': 116, 'max_depth': 12, 'min_samples_split': 6}\n",
      "Best Score: 0.89125\n"
     ]
    }
   ],
   "source": [
    "print(\"Best Parameters:\", study.best_params)\n",
    "print(\"Best Score:\", study.best_value)"
   ]
  },
  {
   "cell_type": "code",
   "execution_count": null,
   "id": "84f181ce-c274-487e-b00c-4d991569d1c2",
   "metadata": {},
   "outputs": [],
   "source": []
  }
 ],
 "metadata": {
  "kernelspec": {
   "display_name": "Python 3 (ipykernel)",
   "language": "python",
   "name": "python3"
  },
  "language_info": {
   "codemirror_mode": {
    "name": "ipython",
    "version": 3
   },
   "file_extension": ".py",
   "mimetype": "text/x-python",
   "name": "python",
   "nbconvert_exporter": "python",
   "pygments_lexer": "ipython3",
   "version": "3.13.5"
  }
 },
 "nbformat": 4,
 "nbformat_minor": 5
}
